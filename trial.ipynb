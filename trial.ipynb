{
 "cells": [
  {
   "cell_type": "code",
   "execution_count": 1,
   "metadata": {},
   "outputs": [],
   "source": [
    "from tensorflow.keras.preprocessing import image"
   ]
  },
  {
   "cell_type": "code",
   "execution_count": 2,
   "metadata": {},
   "outputs": [],
   "source": [
    "img = image.load_img('test_img.jpeg', target_size=(224, 224))"
   ]
  },
  {
   "cell_type": "code",
   "execution_count": 3,
   "metadata": {},
   "outputs": [],
   "source": [
    "img_array = image.img_to_array(img)"
   ]
  },
  {
   "cell_type": "code",
   "execution_count": 4,
   "metadata": {},
   "outputs": [
    {
     "name": "stdout",
     "output_type": "stream",
     "text": [
      "(1, 224, 224, 3)\n"
     ]
    }
   ],
   "source": [
    "# this cell is done so that the image shape is fit for model (accpets batches of images instead of single image)\n",
    "import numpy as np\n",
    "expanded_img_array = np.expand_dims(img_array, axis=0)\n",
    "print(expanded_img_array.shape)"
   ]
  },
  {
   "cell_type": "code",
   "execution_count": 5,
   "metadata": {},
   "outputs": [],
   "source": [
    "import tensorflow as tf\n",
    "from tensorflow.keras.preprocessing import image\n",
    "from tensorflow.keras.layers import GlobalMaxPooling2D\n",
    "from tensorflow.keras.applications.resnet50 import ResNet50,preprocess_input"
   ]
  },
  {
   "cell_type": "code",
   "execution_count": 6,
   "metadata": {},
   "outputs": [],
   "source": [
    "model = ResNet50(weights='imagenet',\n",
    "                 include_top=False,\n",
    "                 input_shape=(224, 224, 3))\n",
    "\n",
    "model.trainable = False #fix weights\n",
    "\n",
    "model = tf.keras.Sequential([\n",
    "    model,\n",
    "    GlobalMaxPooling2D()\n",
    "])"
   ]
  },
  {
   "cell_type": "code",
   "execution_count": null,
   "metadata": {},
   "outputs": [
    {
     "name": "stdout",
     "output_type": "stream",
     "text": [
      "(1, 224, 224, 3)\n"
     ]
    },
    {
     "data": {
      "text/plain": [
       "array([[[[120.061, 107.221, 100.32 ],\n",
       "         [120.061, 107.221, 100.32 ],\n",
       "         [120.061, 107.221, 100.32 ],\n",
       "         ...,\n",
       "         [120.061, 107.221, 100.32 ],\n",
       "         [120.061, 107.221, 100.32 ],\n",
       "         [120.061, 107.221, 100.32 ]],\n",
       "\n",
       "        [[120.061, 107.221, 100.32 ],\n",
       "         [120.061, 107.221, 100.32 ],\n",
       "         [120.061, 107.221, 100.32 ],\n",
       "         ...,\n",
       "         [120.061, 107.221, 100.32 ],\n",
       "         [120.061, 107.221, 100.32 ],\n",
       "         [120.061, 107.221, 100.32 ]],\n",
       "\n",
       "        [[120.061, 107.221, 100.32 ],\n",
       "         [120.061, 107.221, 100.32 ],\n",
       "         [120.061, 107.221, 100.32 ],\n",
       "         ...,\n",
       "         [120.061, 107.221, 100.32 ],\n",
       "         [120.061, 107.221, 100.32 ],\n",
       "         [120.061, 107.221, 100.32 ]],\n",
       "\n",
       "        ...,\n",
       "\n",
       "        [[120.061, 107.221, 100.32 ],\n",
       "         [120.061, 107.221, 100.32 ],\n",
       "         [120.061, 107.221, 100.32 ],\n",
       "         ...,\n",
       "         [120.061, 107.221, 100.32 ],\n",
       "         [120.061, 107.221, 100.32 ],\n",
       "         [120.061, 107.221, 100.32 ]],\n",
       "\n",
       "        [[120.061, 107.221, 100.32 ],\n",
       "         [120.061, 107.221, 100.32 ],\n",
       "         [120.061, 107.221, 100.32 ],\n",
       "         ...,\n",
       "         [120.061, 107.221, 100.32 ],\n",
       "         [120.061, 107.221, 100.32 ],\n",
       "         [120.061, 107.221, 100.32 ]],\n",
       "\n",
       "        [[120.061, 107.221, 100.32 ],\n",
       "         [120.061, 107.221, 100.32 ],\n",
       "         [120.061, 107.221, 100.32 ],\n",
       "         ...,\n",
       "         [120.061, 107.221, 100.32 ],\n",
       "         [120.061, 107.221, 100.32 ],\n",
       "         [120.061, 107.221, 100.32 ]]]], dtype=float32)"
      ]
     },
     "execution_count": 7,
     "metadata": {},
     "output_type": "execute_result"
    }
   ],
   "source": [
    "preprocessed_img = preprocess_input(expanded_img_array) #reordering rgb to bgr and other preprocessing for imagenet\n",
    "print(preprocessed_img.shape)\n",
    "preprocessed_img"
   ]
  },
  {
   "cell_type": "code",
   "execution_count": null,
   "metadata": {},
   "outputs": [
    {
     "data": {
      "text/plain": [
       "array([[ 5.3759236, 25.702105 ,  2.5506554, ...,  5.2237244,  7.4053173,\n",
       "        14.645377 ]], dtype=float32)"
      ]
     },
     "execution_count": 8,
     "metadata": {},
     "output_type": "execute_result"
    }
   ],
   "source": [
    "model.predict(preprocessed_img)"
   ]
  },
  {
   "cell_type": "code",
   "execution_count": 11,
   "metadata": {},
   "outputs": [
    {
     "data": {
      "text/plain": [
       "array([0.0193399 , 0.09246339, 0.00917599, ..., 0.01879236, 0.02664065,\n",
       "       0.05268678], dtype=float32)"
      ]
     },
     "execution_count": 11,
     "metadata": {},
     "output_type": "execute_result"
    }
   ],
   "source": [
    "from numpy.linalg import norm\n",
    "\n",
    "model.predict(preprocessed_img).flatten()/norm(model.predict(preprocessed_img).flatten())"
   ]
  },
  {
   "cell_type": "code",
   "execution_count": null,
   "metadata": {},
   "outputs": [],
   "source": []
  },
  {
   "cell_type": "code",
   "execution_count": null,
   "metadata": {},
   "outputs": [],
   "source": []
  },
  {
   "cell_type": "code",
   "execution_count": null,
   "metadata": {},
   "outputs": [],
   "source": []
  }
 ],
 "metadata": {
  "kernelspec": {
   "display_name": "fashRecc",
   "language": "python",
   "name": "python3"
  },
  "language_info": {
   "codemirror_mode": {
    "name": "ipython",
    "version": 3
   },
   "file_extension": ".py",
   "mimetype": "text/x-python",
   "name": "python",
   "nbconvert_exporter": "python",
   "pygments_lexer": "ipython3",
   "version": "3.7.12"
  }
 },
 "nbformat": 4,
 "nbformat_minor": 2
}
